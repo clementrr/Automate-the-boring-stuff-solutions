{
 "cells": [
  {
   "cell_type": "code",
   "execution_count": 3,
   "metadata": {},
   "outputs": [
    {
     "name": "stdout",
     "output_type": "stream",
     "text": [
      "73\n",
      "Chance of streak: 0.73%\n"
     ]
    }
   ],
   "source": [
    "import random\n",
    "\n",
    "def lancers_aleatoires():\n",
    "    item =[]\n",
    "    number_of_streaks = 0\n",
    "    repetitions= 0\n",
    "    \n",
    "    for i in range(1,10000):\n",
    "        coinflip = random.randint(0,1)\n",
    "        if coinflip == 0:\n",
    "            item.append('T')     \n",
    "        else :\n",
    "            item.append('H')\n",
    "   \n",
    "        if len(item)>=2 :\n",
    "            last_flip = item[-2]\n",
    "        else :\n",
    "            last_flip =\"\"\n",
    "    \n",
    "        if item[-1]==last_flip :\n",
    "            repetitions+=1\n",
    "        else :\n",
    "            repetitions=0\n",
    "        if repetitions==6:\n",
    "            number_of_streaks+=1\n",
    "    \n",
    "    return number_of_streaks\n",
    "\n",
    "number_of_streaks = lancers_aleatoires()\n",
    "print(number_of_streaks)\n",
    "print('Chance of streak: %s%%' % (number_of_streaks / 100))"
   ]
  },
  {
   "cell_type": "code",
   "execution_count": null,
   "metadata": {},
   "outputs": [],
   "source": []
  }
 ],
 "metadata": {
  "kernelspec": {
   "display_name": "Python 3",
   "language": "python",
   "name": "python3"
  },
  "language_info": {
   "codemirror_mode": {
    "name": "ipython",
    "version": 3
   },
   "file_extension": ".py",
   "mimetype": "text/x-python",
   "name": "python",
   "nbconvert_exporter": "python",
   "pygments_lexer": "ipython3",
   "version": "3.8.3"
  }
 },
 "nbformat": 4,
 "nbformat_minor": 4
}
