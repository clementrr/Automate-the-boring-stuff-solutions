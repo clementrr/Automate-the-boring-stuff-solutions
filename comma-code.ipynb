{
 "cells": [
  {
   "cell_type": "code",
   "execution_count": 11,
   "metadata": {},
   "outputs": [
    {
     "name": "stdout",
     "output_type": "stream",
     "text": [
      "clément, python, et apprentissage\n"
     ]
    }
   ],
   "source": [
    "def comma_code(elements):\n",
    "\n",
    "    elements_len = len(elements)\n",
    "    \n",
    "    if elements_len == 0:\n",
    "        return 'vous devriez entrer une liste'\n",
    "    elif elements_len == 1:\n",
    "        return elements[0]\n",
    "    \n",
    "    return ', '.join(elements[:-1]) + ', et ' + elements[-1]\n",
    "\n",
    "spam = ['clément', 'python', 'apprentissage']\n",
    "\n",
    "print(comma_code(spam))"
   ]
  },
  {
   "cell_type": "code",
   "execution_count": null,
   "metadata": {},
   "outputs": [],
   "source": []
  }
 ],
 "metadata": {
  "kernelspec": {
   "display_name": "Python 3",
   "language": "python",
   "name": "python3"
  },
  "language_info": {
   "codemirror_mode": {
    "name": "ipython",
    "version": 3
   },
   "file_extension": ".py",
   "mimetype": "text/x-python",
   "name": "python",
   "nbconvert_exporter": "python",
   "pygments_lexer": "ipython3",
   "version": "3.8.3"
  }
 },
 "nbformat": 4,
 "nbformat_minor": 4
}
