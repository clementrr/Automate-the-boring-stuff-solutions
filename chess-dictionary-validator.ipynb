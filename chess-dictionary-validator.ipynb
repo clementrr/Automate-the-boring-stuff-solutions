{
 "cells": [
  {
   "cell_type": "code",
   "execution_count": 11,
   "metadata": {},
   "outputs": [
    {
     "name": "stdout",
     "output_type": "stream",
     "text": [
      "True\n"
     ]
    }
   ],
   "source": [
    "colors = ['w', 'b']\n",
    "pieces = ['pawn', 'knight', 'bishop', 'rook', 'queen', 'king']\n",
    "\n",
    "def isValidPos(position):\n",
    "    if len(position) != 2:\n",
    "        return False\n",
    "    return (1 <= int(position[0]) <= 8) and ('a' <= position[1] <= 'h')\n",
    "\n",
    "def isValidPiece(piece):\n",
    "    color = piece[0]\n",
    "    figure = piece[1:]\n",
    "    return color in colors and figure in pieces\n",
    "    \n",
    "def addPiece(piece, count_dict):\n",
    "    if piece[1:] == 'pawn': count_dict['pawn'] += 1\n",
    "    elif piece[1:] == 'queen': count_dict['queen'] += 1\n",
    "    elif piece[1:] == 'king': count_dict['king'] += 1\n",
    "\n",
    "    count_dict['total'] += 1\n",
    "\n",
    "def checkCount(count_dict):\n",
    "    return count_dict['pawn'] <= 8 and count_dict['queen'] == 1 and count_dict['king'] == 1 and count_dict['total'] <= 16\n",
    "\n",
    "def isValidChessBoard(board):\n",
    "    # keep track of occupied positions\n",
    "    used_pos = []\n",
    "    # keep track of white pieces\n",
    "    wcount = {\n",
    "        'total': 0,\n",
    "        'pawn': 0,\n",
    "        'king': 0,\n",
    "        'queen': 0\n",
    "    }\n",
    "    # keep track of black pieces\n",
    "    bcount = {\n",
    "        'total': 0,\n",
    "        'pawn': 0,\n",
    "        'king': 0,\n",
    "        'queen': 0\n",
    "    }\n",
    "\n",
    "    for (position, piece) in  (board.items()):\n",
    "        # checking the validity of the position and piece\n",
    "        if not (isValidPos(position) and isValidPiece(piece) and (position not in used_pos)): \n",
    "            return False\n",
    "\n",
    "        # add the newly occupied position\n",
    "        used_pos += [position] \n",
    "        # add the new piece for whites\n",
    "        if piece[0] == 'w': addPiece(piece, wcount) \n",
    "        # add the new piece for blacks\n",
    "        else: addPiece(piece, bcount) \n",
    "\n",
    "    # checking that there is the correct number of pieces in total\n",
    "    return checkCount(wcount) and checkCount(bcount) \n",
    "\n",
    "\n",
    "board = {'1h': 'bking', '6c': 'wqueen', '2g': 'bbishop', '5h': 'bqueen', '3e': 'wking'}\n",
    "print(isValidChessBoard(board))"
   ]
  },
  {
   "cell_type": "code",
   "execution_count": null,
   "metadata": {},
   "outputs": [],
   "source": []
  }
 ],
 "metadata": {
  "kernelspec": {
   "display_name": "Python 3",
   "language": "python",
   "name": "python3"
  },
  "language_info": {
   "codemirror_mode": {
    "name": "ipython",
    "version": 3
   },
   "file_extension": ".py",
   "mimetype": "text/x-python",
   "name": "python",
   "nbconvert_exporter": "python",
   "pygments_lexer": "ipython3",
   "version": "3.8.3"
  }
 },
 "nbformat": 4,
 "nbformat_minor": 4
}
